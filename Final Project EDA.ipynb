{
 "cells": [
  {
   "cell_type": "markdown",
   "source": [
    "# Preparing the dataset for hippocampus segmentation\n",
    "\n",
    "In this notebook you will use the skills and methods that we have talked about during our EDA Lesson to prepare the hippocampus dataset using Python. Follow the Notebook, writing snippets of code where directed so using Task comments, similar to the one below, which expects you to put the proper imports in place. Write your code directly in the cell with TASK comment. Feel free to add cells as you see fit, but please make sure that code that performs that tasked activity sits in the same cell as the Task comment.\n"
   ],
   "metadata": {}
  },
  {
   "cell_type": "code",
   "execution_count": 2,
   "source": [
    "# TASK: Import the following libraries that we will use: nibabel, matplotlib, numpy\n",
    "import nibabel as nib\n",
    "import matplotlib.pyplot as plt\n",
    "import numpy as np\n",
    "import os"
   ],
   "outputs": [],
   "metadata": {}
  },
  {
   "cell_type": "markdown",
   "source": [
    "It will help your understanding of the data a lot if you were able to use a tool that allows you to view NIFTI volumes, like [3D Slicer](https://www.slicer.org/). I will refer to Slicer throughout this Notebook and will be pasting some images showing what your output might look like."
   ],
   "metadata": {}
  },
  {
   "cell_type": "markdown",
   "source": [
    "## Loading NIFTI images using NiBabel\n",
    "\n",
    "NiBabel is a python library for working with neuro-imaging formats (including NIFTI) that we have used in some of the exercises throughout the course. Our volumes and labels are in NIFTI format, so we will use nibabel to load and inspect them.\n",
    "\n",
    "NiBabel documentation could be found here: https://nipy.org/nibabel/\n",
    "\n",
    "Our dataset sits in two directories - *images* and *labels*. Each image is represented by a single file (we are fortunate to have our data converted to NIFTI) and has a corresponding label file which is named the same as the image file.\n",
    "\n",
    "Note that our dataset is \"dirty\". There are a few images and labels that are not quite right. They should be quite obvious to notice, though. The dataset contains an equal amount of \"correct\" volumes and corresponding labels, and you don't need to alter values of any samples in order to get the clean dataset."
   ],
   "metadata": {}
  },
  {
   "cell_type": "code",
   "execution_count": 3,
   "source": [
    "# TASK: Your data sits in directory /data/TrainingSet.\n",
    "# Load an image and a segmentation mask into variables called image and label\n",
    "image = nib.load('/home/phenomx/dante/udacity/Applying_AI_to_3D_Medical_Imaging_Data/test_sections/nd320-c3-3d-imaging-starter/data/TrainingSet/images/hippocampus_001.nii.gz')\n",
    "label = nib.load('/home/phenomx/dante/udacity/Applying_AI_to_3D_Medical_Imaging_Data/test_sections/nd320-c3-3d-imaging-starter/data/TrainingSet/labels/hippocampus_001.nii.gz')\n",
    "\n"
   ],
   "outputs": [],
   "metadata": {}
  },
  {
   "cell_type": "code",
   "execution_count": 4,
   "source": [
    "# Nibabel can present your image data as a Numpy array by calling the method get_fdata()\n",
    "# The array will contain a multi-dimensional Numpy array with numerical values representing voxel intensities. \n",
    "# In our case, images and labels are 3-dimensional, so get_fdata will return a 3-dimensional array. You can verify this\n",
    "# by accessing the .shape attribute. What are the dimensions of the input arrays?\n",
    "\n",
    "# TASK: using matplotlib, visualize a few slices from the dataset, along with their labels. \n",
    "# You can adjust plot sizes like so if you find them too small:\n",
    "plt.rcParams[\"figure.figsize\"] = (10,10)\n",
    "plt.imshow(image.get_fdata()[:,:,20])"
   ],
   "outputs": [
    {
     "output_type": "execute_result",
     "data": {
      "text/plain": [
       "<matplotlib.image.AxesImage at 0x7fc9ac67a550>"
      ]
     },
     "metadata": {},
     "execution_count": 4
    },
    {
     "output_type": "display_data",
     "data": {
      "text/plain": [
       "<Figure size 720x720 with 1 Axes>"
      ],
      "image/png": "[encoded data removed]"
     },
     "metadata": {
      "needs_background": "light"
     }
    }
   ],
   "metadata": {}
  },
  {
   "cell_type": "markdown",
   "source": [
    "Load volume into 3D Slicer to validate that your visualization is correct and get a feel for the shape of structures.Try to get a visualization like the one below (hint: while Slicer documentation is not particularly great, there are plenty of YouTube videos available! Just look it up on YouTube if you are not sure how to do something)\n",
    "\n",
    "![3D slicer](img/Slicer.png)"
   ],
   "metadata": {}
  },
  {
   "cell_type": "code",
   "execution_count": 5,
   "source": [
    "# Stand out suggestion: use one of the simple Volume Rendering algorithms that we've\n",
    "# implemented in one of our earlier lessons to visualize some of these volumes"
   ],
   "outputs": [],
   "metadata": {}
  },
  {
   "cell_type": "markdown",
   "source": [
    "## Looking at single image data\n",
    "In this section we will look closer at the NIFTI representation of our volumes. In order to measure the physical volume of hippocampi, we need to understand the relationship between the sizes of our voxels and the physical world."
   ],
   "metadata": {}
  },
  {
   "cell_type": "code",
   "execution_count": 8,
   "source": [
    "# Nibabel supports many imaging formats, NIFTI being just one of them. I told you that our images \n",
    "# are in NIFTI, but you should confirm if this is indeed the format that we are dealing with\n",
    "# TASK: using .header_class attribute - what is the format of our images?\n",
    "a = image.header\n",
    "print(a)"
   ],
   "outputs": [
    {
     "output_type": "stream",
     "name": "stdout",
     "text": [
      "<class 'nibabel.nifti1.Nifti1Header'> object, endian='<'\n",
      "sizeof_hdr      : 348\n",
      "data_type       : b''\n",
      "db_name         : b''\n",
      "extents         : 0\n",
      "session_error   : 0\n",
      "regular         : b'r'\n",
      "dim_info        : 0\n",
      "dim             : [ 3 35 51 35  1  1  1  1]\n",
      "intent_p1       : 0.0\n",
      "intent_p2       : 0.0\n",
      "intent_p3       : 0.0\n",
      "intent_code     : none\n",
      "datatype        : uint8\n",
      "bitpix          : 8\n",
      "slice_start     : 0\n",
      "pixdim          : [1. 1. 1. 1. 1. 0. 0. 0.]\n",
      "vox_offset      : 0.0\n",
      "scl_slope       : nan\n",
      "scl_inter       : nan\n",
      "slice_end       : 0\n",
      "slice_code      : unknown\n",
      "xyzt_units      : 10\n",
      "cal_max         : 0.0\n",
      "cal_min         : 0.0\n",
      "slice_duration  : 0.0\n",
      "toffset         : 0.0\n",
      "glmax           : 0\n",
      "glmin           : 0\n",
      "descrip         : b'5.0.10'\n",
      "aux_file        : b'none'\n",
      "qform_code      : scanner\n",
      "sform_code      : scanner\n",
      "quatern_b       : 0.0\n",
      "quatern_c       : 0.0\n",
      "quatern_d       : 0.0\n",
      "qoffset_x       : 1.0\n",
      "qoffset_y       : 1.0\n",
      "qoffset_z       : 1.0\n",
      "srow_x          : [1. 0. 0. 1.]\n",
      "srow_y          : [0. 1. 0. 1.]\n",
      "srow_z          : [0. 0. 1. 1.]\n",
      "intent_name     : b''\n",
      "magic           : b'n+1'\n"
     ]
    }
   ],
   "metadata": {
    "scrolled": true
   }
  },
  {
   "cell_type": "markdown",
   "source": [
    "Further down we will be inspecting .header attribute that provides access to NIFTI metadata. You can use this resource as a reference for various fields: https://brainder.org/2012/09/23/the-nifti-file-format/"
   ],
   "metadata": {}
  },
  {
   "cell_type": "code",
   "execution_count": null,
   "source": [
    "# TASK: How many bits per pixel are used?"
   ],
   "outputs": [],
   "metadata": {}
  },
  {
   "cell_type": "code",
   "execution_count": null,
   "source": [
    "# TASK: What are the units of measurement?"
   ],
   "outputs": [],
   "metadata": {}
  },
  {
   "cell_type": "code",
   "execution_count": null,
   "source": [
    "# TASK: Do we have a regular grid? What are grid spacings?"
   ],
   "outputs": [],
   "metadata": {}
  },
  {
   "cell_type": "code",
   "execution_count": null,
   "source": [
    "# TASK: What dimensions represent axial, sagittal, and coronal slices? How do you know?"
   ],
   "outputs": [],
   "metadata": {}
  },
  {
   "cell_type": "code",
   "execution_count": 4,
   "source": [
    "# By now you should have enough information to decide what are dimensions of a single voxel\n",
    "# TASK: Compute the volume (in mm³) of a hippocampus using one of the labels you've loaded. \n",
    "# You should get a number between ~2200 and ~4500\n",
    "num_vox = np.sum(label.get_fdata() > 0)\n",
    "num_vox"
   ],
   "outputs": [
    {
     "output_type": "execute_result",
     "data": {
      "text/plain": [
       "2948"
      ]
     },
     "metadata": {},
     "execution_count": 4
    }
   ],
   "metadata": {}
  },
  {
   "cell_type": "markdown",
   "source": [
    "## Plotting some charts"
   ],
   "metadata": {}
  },
  {
   "cell_type": "code",
   "execution_count": null,
   "source": [
    "# TASK: Plot a histogram of all volumes that we have in our dataset and see how \n",
    "# our dataset measures against a slice of a normal population represented by the chart below."
   ],
   "outputs": [],
   "metadata": {}
  },
  {
   "cell_type": "markdown",
   "source": [
    "<img src=\"img/nomogram_fem_right.svg\" width=400 align=left>"
   ],
   "metadata": {}
  },
  {
   "cell_type": "markdown",
   "source": [
    "Do you see any outliers? Why do you think it's so (might be not immediately obvious, but it's always a good idea to inspect) outliers closer. If you haven't found the images that do not belong, the histogram may help you."
   ],
   "metadata": {}
  },
  {
   "cell_type": "markdown",
   "source": [
    "In the real world we would have precise information about the ages and conditions of our patients, and understanding how our dataset measures against population norm would be the integral part of clinical validation that we talked about in last lesson. Unfortunately, we do not have this information about this dataset, so we can only guess why it measures the way it is. If you would like to explore further, you can use the [calculator from HippoFit project](http://www.smanohar.com/biobank/calculator.html) to see how our dataset compares against different population slices"
   ],
   "metadata": {}
  },
  {
   "cell_type": "markdown",
   "source": [
    "Did you notice anything odd about the label files? We hope you did! The mask seems to have two classes, labeled with values `1` and `2` respectively. If you visualized sagittal or axial views, you might have gotten a good guess of what those are. Class 1 is the anterior segment of the hippocampus and class 2 is the posterior one. \n",
    "\n",
    "For the purpose of volume calculation we do not care about the distinction, however we will still train our network to differentiate between these two classes and the background"
   ],
   "metadata": {}
  },
  {
   "cell_type": "code",
   "execution_count": 14,
   "source": [
    "# TASK: Copy the clean dataset to the output folder inside section1/out. You will use it in the next Section\n",
    "img_list = os.listdir('/home/phenomx/dante/udacity/Applying_AI_to_3D_Medical_Imaging_Data/test_sections/nd320-c3-3d-imaging-starter/data/TrainingSet/images')\n",
    "lab_list = os.listdir('/home/phenomx/dante/udacity/Applying_AI_to_3D_Medical_Imaging_Data/test_sections/nd320-c3-3d-imaging-starter/data/TrainingSet/labels')\n",
    "final = []\n",
    "for i in img_list:\n",
    "    for j in lab_list:\n",
    "        if i == j:\n",
    "            final.append(j)\n",
    "\n",
    "\n",
    "    "
   ],
   "outputs": [],
   "metadata": {}
  },
  {
   "cell_type": "code",
   "execution_count": 16,
   "source": [
    "final = sorted(final)\n",
    "len(final)"
   ],
   "outputs": [
    {
     "output_type": "execute_result",
     "data": {
      "text/plain": [
       "262"
      ]
     },
     "metadata": {},
     "execution_count": 16
    }
   ],
   "metadata": {}
  },
  {
   "cell_type": "code",
   "execution_count": 17,
   "source": [
    "final"
   ],
   "outputs": [
    {
     "output_type": "execute_result",
     "data": {
      "text/plain": [
       "['hippocampus_001.nii.gz',\n",
       " 'hippocampus_003.nii.gz',\n",
       " 'hippocampus_004.nii.gz',\n",
       " 'hippocampus_006.nii.gz',\n",
       " 'hippocampus_007.nii.gz',\n",
       " 'hippocampus_008.nii.gz',\n",
       " 'hippocampus_010.nii.gz',\n",
       " 'hippocampus_011.nii.gz',\n",
       " 'hippocampus_014.nii.gz',\n",
       " 'hippocampus_015.nii.gz',\n",
       " 'hippocampus_017.nii.gz',\n",
       " 'hippocampus_019.nii.gz',\n",
       " 'hippocampus_020.nii.gz',\n",
       " 'hippocampus_023.nii.gz',\n",
       " 'hippocampus_024.nii.gz',\n",
       " 'hippocampus_025.nii.gz',\n",
       " 'hippocampus_026.nii.gz',\n",
       " 'hippocampus_033.nii.gz',\n",
       " 'hippocampus_034.nii.gz',\n",
       " 'hippocampus_035.nii.gz',\n",
       " 'hippocampus_036.nii.gz',\n",
       " 'hippocampus_037.nii.gz',\n",
       " 'hippocampus_038.nii.gz',\n",
       " 'hippocampus_039.nii.gz',\n",
       " 'hippocampus_040.nii.gz',\n",
       " 'hippocampus_041.nii.gz',\n",
       " 'hippocampus_042.nii.gz',\n",
       " 'hippocampus_044.nii.gz',\n",
       " 'hippocampus_045.nii.gz',\n",
       " 'hippocampus_046.nii.gz',\n",
       " 'hippocampus_048.nii.gz',\n",
       " 'hippocampus_049.nii.gz',\n",
       " 'hippocampus_050.nii.gz',\n",
       " 'hippocampus_051.nii.gz',\n",
       " 'hippocampus_052.nii.gz',\n",
       " 'hippocampus_053.nii.gz',\n",
       " 'hippocampus_056.nii.gz',\n",
       " 'hippocampus_057.nii.gz',\n",
       " 'hippocampus_058.nii.gz',\n",
       " 'hippocampus_060.nii.gz',\n",
       " 'hippocampus_064.nii.gz',\n",
       " 'hippocampus_065.nii.gz',\n",
       " 'hippocampus_067.nii.gz',\n",
       " 'hippocampus_068.nii.gz',\n",
       " 'hippocampus_070.nii.gz',\n",
       " 'hippocampus_074.nii.gz',\n",
       " 'hippocampus_075.nii.gz',\n",
       " 'hippocampus_077.nii.gz',\n",
       " 'hippocampus_083.nii.gz',\n",
       " 'hippocampus_084.nii.gz',\n",
       " 'hippocampus_087.nii.gz',\n",
       " 'hippocampus_088.nii.gz',\n",
       " 'hippocampus_089.nii.gz',\n",
       " 'hippocampus_090.nii.gz',\n",
       " 'hippocampus_091.nii.gz',\n",
       " 'hippocampus_092.nii.gz',\n",
       " 'hippocampus_093.nii.gz',\n",
       " 'hippocampus_094.nii.gz',\n",
       " 'hippocampus_095.nii.gz',\n",
       " 'hippocampus_096.nii.gz',\n",
       " 'hippocampus_097.nii.gz',\n",
       " 'hippocampus_098.nii.gz',\n",
       " 'hippocampus_099.nii.gz',\n",
       " 'hippocampus_101.nii.gz',\n",
       " 'hippocampus_102.nii.gz',\n",
       " 'hippocampus_104.nii.gz',\n",
       " 'hippocampus_105.nii.gz',\n",
       " 'hippocampus_106.nii.gz',\n",
       " 'hippocampus_107.nii.gz',\n",
       " 'hippocampus_108.nii.gz',\n",
       " 'hippocampus_109.nii.gz',\n",
       " 'hippocampus_114.nii.gz',\n",
       " 'hippocampus_123.nii.gz',\n",
       " 'hippocampus_124.nii.gz',\n",
       " 'hippocampus_125.nii.gz',\n",
       " 'hippocampus_126.nii.gz',\n",
       " 'hippocampus_127.nii.gz',\n",
       " 'hippocampus_130.nii.gz',\n",
       " 'hippocampus_132.nii.gz',\n",
       " 'hippocampus_133.nii.gz',\n",
       " 'hippocampus_135.nii.gz',\n",
       " 'hippocampus_136.nii.gz',\n",
       " 'hippocampus_138.nii.gz',\n",
       " 'hippocampus_141.nii.gz',\n",
       " 'hippocampus_142.nii.gz',\n",
       " 'hippocampus_143.nii.gz',\n",
       " 'hippocampus_144.nii.gz',\n",
       " 'hippocampus_145.nii.gz',\n",
       " 'hippocampus_146.nii.gz',\n",
       " 'hippocampus_148.nii.gz',\n",
       " 'hippocampus_149.nii.gz',\n",
       " 'hippocampus_150.nii.gz',\n",
       " 'hippocampus_152.nii.gz',\n",
       " 'hippocampus_154.nii.gz',\n",
       " 'hippocampus_155.nii.gz',\n",
       " 'hippocampus_156.nii.gz',\n",
       " 'hippocampus_157.nii.gz',\n",
       " 'hippocampus_158.nii.gz',\n",
       " 'hippocampus_160.nii.gz',\n",
       " 'hippocampus_161.nii.gz',\n",
       " 'hippocampus_162.nii.gz',\n",
       " 'hippocampus_163.nii.gz',\n",
       " 'hippocampus_164.nii.gz',\n",
       " 'hippocampus_165.nii.gz',\n",
       " 'hippocampus_166.nii.gz',\n",
       " 'hippocampus_169.nii.gz',\n",
       " 'hippocampus_170.nii.gz',\n",
       " 'hippocampus_171.nii.gz',\n",
       " 'hippocampus_172.nii.gz',\n",
       " 'hippocampus_173.nii.gz',\n",
       " 'hippocampus_174.nii.gz',\n",
       " 'hippocampus_175.nii.gz',\n",
       " 'hippocampus_176.nii.gz',\n",
       " 'hippocampus_177.nii.gz',\n",
       " 'hippocampus_178.nii.gz',\n",
       " 'hippocampus_180.nii.gz',\n",
       " 'hippocampus_181.nii.gz',\n",
       " 'hippocampus_184.nii.gz',\n",
       " 'hippocampus_185.nii.gz',\n",
       " 'hippocampus_188.nii.gz',\n",
       " 'hippocampus_189.nii.gz',\n",
       " 'hippocampus_190.nii.gz',\n",
       " 'hippocampus_193.nii.gz',\n",
       " 'hippocampus_194.nii.gz',\n",
       " 'hippocampus_195.nii.gz',\n",
       " 'hippocampus_197.nii.gz',\n",
       " 'hippocampus_199.nii.gz',\n",
       " 'hippocampus_203.nii.gz',\n",
       " 'hippocampus_204.nii.gz',\n",
       " 'hippocampus_205.nii.gz',\n",
       " 'hippocampus_207.nii.gz',\n",
       " 'hippocampus_210.nii.gz',\n",
       " 'hippocampus_212.nii.gz',\n",
       " 'hippocampus_215.nii.gz',\n",
       " 'hippocampus_216.nii.gz',\n",
       " 'hippocampus_217.nii.gz',\n",
       " 'hippocampus_219.nii.gz',\n",
       " 'hippocampus_220.nii.gz',\n",
       " 'hippocampus_221.nii.gz',\n",
       " 'hippocampus_222.nii.gz',\n",
       " 'hippocampus_223.nii.gz',\n",
       " 'hippocampus_224.nii.gz',\n",
       " 'hippocampus_225.nii.gz',\n",
       " 'hippocampus_226.nii.gz',\n",
       " 'hippocampus_227.nii.gz',\n",
       " 'hippocampus_228.nii.gz',\n",
       " 'hippocampus_229.nii.gz',\n",
       " 'hippocampus_230.nii.gz',\n",
       " 'hippocampus_231.nii.gz',\n",
       " 'hippocampus_232.nii.gz',\n",
       " 'hippocampus_233.nii.gz',\n",
       " 'hippocampus_234.nii.gz',\n",
       " 'hippocampus_235.nii.gz',\n",
       " 'hippocampus_236.nii.gz',\n",
       " 'hippocampus_238.nii.gz',\n",
       " 'hippocampus_242.nii.gz',\n",
       " 'hippocampus_243.nii.gz',\n",
       " 'hippocampus_244.nii.gz',\n",
       " 'hippocampus_245.nii.gz',\n",
       " 'hippocampus_248.nii.gz',\n",
       " 'hippocampus_249.nii.gz',\n",
       " 'hippocampus_250.nii.gz',\n",
       " 'hippocampus_251.nii.gz',\n",
       " 'hippocampus_252.nii.gz',\n",
       " 'hippocampus_253.nii.gz',\n",
       " 'hippocampus_257.nii.gz',\n",
       " 'hippocampus_259.nii.gz',\n",
       " 'hippocampus_260.nii.gz',\n",
       " 'hippocampus_261.nii.gz',\n",
       " 'hippocampus_263.nii.gz',\n",
       " 'hippocampus_264.nii.gz',\n",
       " 'hippocampus_265.nii.gz',\n",
       " 'hippocampus_268.nii.gz',\n",
       " 'hippocampus_269.nii.gz',\n",
       " 'hippocampus_274.nii.gz',\n",
       " 'hippocampus_276.nii.gz',\n",
       " 'hippocampus_277.nii.gz',\n",
       " 'hippocampus_279.nii.gz',\n",
       " 'hippocampus_280.nii.gz',\n",
       " 'hippocampus_281.nii.gz',\n",
       " 'hippocampus_282.nii.gz',\n",
       " 'hippocampus_286.nii.gz',\n",
       " 'hippocampus_287.nii.gz',\n",
       " 'hippocampus_288.nii.gz',\n",
       " 'hippocampus_289.nii.gz',\n",
       " 'hippocampus_290.nii.gz',\n",
       " 'hippocampus_292.nii.gz',\n",
       " 'hippocampus_294.nii.gz',\n",
       " 'hippocampus_295.nii.gz',\n",
       " 'hippocampus_296.nii.gz',\n",
       " 'hippocampus_297.nii.gz',\n",
       " 'hippocampus_298.nii.gz',\n",
       " 'hippocampus_299.nii.gz',\n",
       " 'hippocampus_300.nii.gz',\n",
       " 'hippocampus_301.nii.gz',\n",
       " 'hippocampus_302.nii.gz',\n",
       " 'hippocampus_303.nii.gz',\n",
       " 'hippocampus_304.nii.gz',\n",
       " 'hippocampus_305.nii.gz',\n",
       " 'hippocampus_308.nii.gz',\n",
       " 'hippocampus_309.nii.gz',\n",
       " 'hippocampus_310.nii.gz',\n",
       " 'hippocampus_311.nii.gz',\n",
       " 'hippocampus_314.nii.gz',\n",
       " 'hippocampus_316.nii.gz',\n",
       " 'hippocampus_317.nii.gz',\n",
       " 'hippocampus_318.nii.gz',\n",
       " 'hippocampus_319.nii.gz',\n",
       " 'hippocampus_320.nii.gz',\n",
       " 'hippocampus_321.nii.gz',\n",
       " 'hippocampus_322.nii.gz',\n",
       " 'hippocampus_325.nii.gz',\n",
       " 'hippocampus_326.nii.gz',\n",
       " 'hippocampus_327.nii.gz',\n",
       " 'hippocampus_328.nii.gz',\n",
       " 'hippocampus_329.nii.gz',\n",
       " 'hippocampus_330.nii.gz',\n",
       " 'hippocampus_331.nii.gz',\n",
       " 'hippocampus_332.nii.gz',\n",
       " 'hippocampus_333.nii.gz',\n",
       " 'hippocampus_334.nii.gz',\n",
       " 'hippocampus_335.nii.gz',\n",
       " 'hippocampus_336.nii.gz',\n",
       " 'hippocampus_337.nii.gz',\n",
       " 'hippocampus_338.nii.gz',\n",
       " 'hippocampus_340.nii.gz',\n",
       " 'hippocampus_341.nii.gz',\n",
       " 'hippocampus_343.nii.gz',\n",
       " 'hippocampus_345.nii.gz',\n",
       " 'hippocampus_349.nii.gz',\n",
       " 'hippocampus_350.nii.gz',\n",
       " 'hippocampus_351.nii.gz',\n",
       " 'hippocampus_352.nii.gz',\n",
       " 'hippocampus_353.nii.gz',\n",
       " 'hippocampus_354.nii.gz',\n",
       " 'hippocampus_355.nii.gz',\n",
       " 'hippocampus_356.nii.gz',\n",
       " 'hippocampus_358.nii.gz',\n",
       " 'hippocampus_359.nii.gz',\n",
       " 'hippocampus_360.nii.gz',\n",
       " 'hippocampus_361.nii.gz',\n",
       " 'hippocampus_363.nii.gz',\n",
       " 'hippocampus_366.nii.gz',\n",
       " 'hippocampus_367.nii.gz',\n",
       " 'hippocampus_368.nii.gz',\n",
       " 'hippocampus_370.nii.gz',\n",
       " 'hippocampus_372.nii.gz',\n",
       " 'hippocampus_373.nii.gz',\n",
       " 'hippocampus_374.nii.gz',\n",
       " 'hippocampus_375.nii.gz',\n",
       " 'hippocampus_376.nii.gz',\n",
       " 'hippocampus_378.nii.gz',\n",
       " 'hippocampus_380.nii.gz',\n",
       " 'hippocampus_381.nii.gz',\n",
       " 'hippocampus_383.nii.gz',\n",
       " 'hippocampus_385.nii.gz',\n",
       " 'hippocampus_386.nii.gz',\n",
       " 'hippocampus_387.nii.gz',\n",
       " 'hippocampus_389.nii.gz',\n",
       " 'hippocampus_390.nii.gz',\n",
       " 'hippocampus_393.nii.gz',\n",
       " 'hippocampus_394.nii.gz']"
      ]
     },
     "metadata": {},
     "execution_count": 17
    }
   ],
   "metadata": {}
  },
  {
   "cell_type": "markdown",
   "source": [
    "## Final remarks\n",
    "\n",
    "Congratulations! You have finished Section 1. \n",
    "\n",
    "In this section you have inspected a dataset of MRI scans and related segmentations, represented as NIFTI files. We have visualized some slices, and understood the layout of the data. We have inspected file headers to understand what how the image dimensions relate to the physical world and we have understood how to measure our volume. We have then inspected dataset for outliers, and have created a clean set that is ready for consumption by our ML algorithm. \n",
    "\n",
    "In the next section you will create training and testing pipelines for a UNet-based machine learning model, run and monitor the execution, and will produce test metrics. This will arm you with all you need to use the model in the clinical context and reason about its performance!"
   ],
   "metadata": {}
  }
 ],
 "metadata": {
  "kernelspec": {
   "name": "python3",
   "display_name": "Python 3.8.13 64-bit ('zebra3': conda)"
  },
  "language_info": {
   "codemirror_mode": {
    "name": "ipython",
    "version": 3
   },
   "file_extension": ".py",
   "mimetype": "text/x-python",
   "name": "python",
   "nbconvert_exporter": "python",
   "pygments_lexer": "ipython3",
   "version": "3.8.13"
  },
  "interpreter": {
   "hash": "4c1e6b655446ea711f3245ca4da815888a78ab7eeab0167e0d65a97e447509eb"
  }
 },
 "nbformat": 4,
 "nbformat_minor": 2
}